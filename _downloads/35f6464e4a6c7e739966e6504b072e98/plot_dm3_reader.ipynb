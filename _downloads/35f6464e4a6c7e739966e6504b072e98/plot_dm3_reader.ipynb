{
  "cells": [
    {
      "cell_type": "code",
      "execution_count": null,
      "metadata": {
        "collapsed": false
      },
      "outputs": [],
      "source": [
        "%matplotlib inline"
      ]
    },
    {
      "cell_type": "markdown",
      "metadata": {},
      "source": [
        "\n# Using a Reader\n\n**Gerd Duscher**\n\n9/08/2020\n\nThis document illustrates an example of extracting data out of dm3\n(Digital Micrograph) file.\n\n\n## Introduction\nDigital Micrograph from Gatan runs on many TEMs for data acquisition.\nWe read and plot such files here.\n\n### Import all necessary packages\nThere are a few setup procedures that need to be followed before any code is written. In this step, we simply load a\nfew python packages that will be necessary in the later steps.\n"
      ]
    },
    {
      "cell_type": "code",
      "execution_count": null,
      "metadata": {
        "collapsed": false
      },
      "outputs": [],
      "source": [
        "import numpy as np\nimport matplotlib.pyplot as plt\n\nimport sys\nsys.path.append('../../sidpy')\nfrom sidpy.io.interface_utils import openfile_dialog, get_QT_app\nsys.path.append('../')\nfrom ScopeReaders.em.tem.dm3_reader import DM3Reader"
      ]
    },
    {
      "cell_type": "markdown",
      "metadata": {},
      "source": [
        "### Open a file dialog\nHere we select the name of the file to open. We will be using the sidpy interface to do that.\nWe start QT as a backend for the dialog first (in a notebook the magic command ``%gui qt5``)\n\n"
      ]
    },
    {
      "cell_type": "code",
      "execution_count": null,
      "metadata": {
        "collapsed": false
      },
      "outputs": [],
      "source": [
        "app = get_QT_app()\n\n# Then we can open QT file dialog to select a file\n\nfile_name = openfile_dialog()\nprint(file_name)\n\n# catch a bad selection or cancelling of file selection\nif len(file_name) < 3 or file_name[-4:] != '.dm3':\n    print('File not supported')\n    exit()"
      ]
    },
    {
      "cell_type": "markdown",
      "metadata": {},
      "source": [
        "### Read file\nWe use the ScopeReader to read the file into a sidpy dataset.\nAll metadata (absolutely everything) is saved in the ``original_metadata`` attribute\nof the sidpy Dataset. If the selected file is not a dm3 File you get an ``IOError``.\n\n"
      ]
    },
    {
      "cell_type": "code",
      "execution_count": null,
      "metadata": {
        "collapsed": false
      },
      "outputs": [],
      "source": [
        "dm3_reader = DM3Reader(file_name)\ndataset = dm3_reader.read()"
      ]
    },
    {
      "cell_type": "markdown",
      "metadata": {},
      "source": [
        "### Plot file\nOnly one command is necessary to plot the file.\n\n"
      ]
    },
    {
      "cell_type": "code",
      "execution_count": null,
      "metadata": {
        "collapsed": false
      },
      "outputs": [],
      "source": [
        "dataset.plot()"
      ]
    }
  ],
  "metadata": {
    "kernelspec": {
      "display_name": "Python 3",
      "language": "python",
      "name": "python3"
    },
    "language_info": {
      "codemirror_mode": {
        "name": "ipython",
        "version": 3
      },
      "file_extension": ".py",
      "mimetype": "text/x-python",
      "name": "python",
      "nbconvert_exporter": "python",
      "pygments_lexer": "ipython3",
      "version": "3.7.1"
    }
  },
  "nbformat": 4,
  "nbformat_minor": 0
}